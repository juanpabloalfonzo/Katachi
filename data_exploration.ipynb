{
 "cells": [
  {
   "cell_type": "markdown",
   "id": "c5b52b51",
   "metadata": {
    "notebookRunGroups": {
     "groupValue": "1"
    }
   },
   "source": [
    "# Imports"
   ]
  },
  {
   "cell_type": "code",
   "execution_count": null,
   "id": "a587e351",
   "metadata": {
    "notebookRunGroups": {
     "groupValue": "1"
    }
   },
   "outputs": [],
   "source": [
    "import hickle\n",
    "import pandas as pd\n",
    "import scipy.signal\n",
    "import shap\n",
    "import numpy as np\n",
    "import matplotlib.pyplot as plt\n",
    "from astropy.table import Table\n",
    "from scipy import ndimage\n",
    "import tqdm\n",
    "from sklearn.datasets import load_digits\n",
    "from sklearn.model_selection import train_test_split\n",
    "from sklearn.preprocessing import StandardScaler\n",
    "import seaborn as sns\n",
    "import umap\n",
    "\n",
    "work_dir = '/home/juanpabloalfonzo/Documents/Manga CNNs/Catalogues/'"
   ]
  },
  {
   "cell_type": "code",
   "execution_count": null,
   "id": "9e219bf7",
   "metadata": {
    "notebookRunGroups": {
     "groupValue": "1"
    }
   },
   "outputs": [],
   "source": [
    "filepath = '/home/juanpabloalfonzo/Documents/Manga CNNs/Catalogues/scalars_extra.cat'\n",
    "d = hickle.load(filepath)\n",
    "manga_scalars = pd.DataFrame(d)"
   ]
  },
  {
   "cell_type": "code",
   "execution_count": null,
   "id": "5c7edc85",
   "metadata": {
    "notebookRunGroups": {
     "groupValue": "1"
    }
   },
   "outputs": [],
   "source": [
    "filepath = work_dir + 'images_extra.cat'\n",
    "d_im = hickle.load(filepath)"
   ]
  },
  {
   "cell_type": "code",
   "execution_count": null,
   "id": "ded3a1e6",
   "metadata": {
    "notebookRunGroups": {
     "groupValue": "1"
    }
   },
   "outputs": [],
   "source": [
    "filepath = work_dir + 'shap_mass_extra.cat'\n",
    "d_shapmass = hickle.load(filepath)"
   ]
  },
  {
   "cell_type": "code",
   "execution_count": null,
   "id": "de94f5c1",
   "metadata": {
    "notebookRunGroups": {
     "groupValue": "1"
    }
   },
   "outputs": [],
   "source": [
    "filepath = work_dir + 'shap_sfr_extra.cat'\n",
    "d_shapsfr = hickle.load(filepath)"
   ]
  },
  {
   "cell_type": "code",
   "execution_count": null,
   "id": "c4995a93",
   "metadata": {
    "notebookRunGroups": {
     "groupValue": "1"
    }
   },
   "outputs": [],
   "source": [
    "filepath = work_dir + 'shap_d4000_extra.cat'\n",
    "d_shapage = hickle.load(filepath)"
   ]
  },
  {
   "cell_type": "code",
   "execution_count": null,
   "id": "fd47a4c8",
   "metadata": {
    "notebookRunGroups": {
     "groupValue": "1"
    }
   },
   "outputs": [],
   "source": [
    "def plot_images_maps(xim = 5, yim = 5, imsize = 4, key='images', ids = [], sigma = 2,random_mode = False):\n",
    "    \n",
    "    if len(ids) == 0:\n",
    "        if random_mode == True:\n",
    "            ids = np.random.randint(len(d_im['images']),size=xim*yim)\n",
    "        if random_mode == False:\n",
    "            ids = np.arange(xim*yim)\n",
    "    plt.subplots(figsize=(imsize*xim,imsize*yim))\n",
    "    plt.subplots_adjust(hspace=0.01,wspace=0.01)\n",
    "    \n",
    "    shapmaps = []\n",
    "    for i in range(xim*yim):\n",
    "        plt.subplot(yim,xim,i+1)\n",
    "        try:\n",
    "            if key == 'images':\n",
    "\n",
    "                plt.imshow(d_im['images'][ids[i]], origin='lower')\n",
    "                tempx, tempy = plt.xlim(), plt.ylim()\n",
    "                plt.text(tempx[1]*0.042, tempy[1]*0.9, 'Manga-id: '+manga_scalars['mangaid'][ids[i]], color='white', fontsize=14)\n",
    "                plt.text(tempx[1]*0.042, tempy[1]*0.81, manga_scalars['split'][ids[i]], color='white', fontsize=12)\n",
    "                plt.text(tempx[1]*0.04, tempy[1]*0.09, ' n: %.1f \\n A$_V$: %.1f \\n z: %.3f' %(manga_scalars['sersic_n'][ids[i]], manga_scalars['Av'][ids[i]], manga_scalars['redshift'][ids[i]]) , color='white', fontsize=14)\n",
    "            elif key == 'shap_mass':            \n",
    "\n",
    "                temp = d_shapmass['shap_map_mass'][ids[i]].copy()\n",
    "                temp = ndimage.gaussian_filter(temp, sigma, mode='nearest')\n",
    "                temp[np.abs(temp)<np.amax(np.nanpercentile(temp,[2,98]))] = np.nan\n",
    "                # clim = np.amax(np.abs(np.nanpercentile(temp,[2,98])))\n",
    "                clim = np.amax(np.abs(temp))\n",
    "                plt.imshow(d_im['images'][ids[i]],alpha=0.4, origin='lower')\n",
    "                plt.pcolor(np.sum(temp,2), cmap='bwr',alpha=0.9)\n",
    "                tempx, tempy = plt.xlim(), plt.ylim()\n",
    "                plt.text(tempx[1]*0.042, tempy[1]*0.9, 'log M$_*$: %.2f' %manga_scalars['log_mstar'][ids[i]], color='k', fontsize=14)\n",
    "                plt.text(tempx[1]*0.042, tempy[1]*0.81, '$\\Delta$M$_{*}^{\\mathrm{pred}}$: %.1f' %(manga_scalars['log_mstar'][ids[i]] - manga_scalars['pred_mstar'][ids[i]]), color='k', fontsize=12)\n",
    "                shapmaps.append(d_shapmass['shap_map_mass'][ids[i]].copy())\n",
    "            elif key == 'shap_sfr':\n",
    "\n",
    "                temp = d_shapsfr['shap_map_mass'][ids[i]].copy()\n",
    "                temp = ndimage.gaussian_filter(temp, sigma, mode='nearest')\n",
    "                temp[np.abs(temp)<np.amax(np.nanpercentile(temp,[2,98]))] = np.nan\n",
    "                clim = np.amax(np.abs(np.nanpercentile(temp,[2,98])))\n",
    "                plt.imshow(d_im['images'][ids[i]],alpha=0.4, origin='lower')\n",
    "                plt.pcolor(np.sum(temp,2), cmap='bwr',alpha=0.9)\n",
    "                tempx, tempy = plt.xlim(), plt.ylim()\n",
    "                plt.text(tempx[1]*0.042, tempy[1]*0.9, 'log SFR: %.2f' %manga_scalars['log_sfr'][ids[i]], color='k', fontsize=14)\n",
    "                plt.text(tempx[1]*0.042, tempy[1]*0.81, '$\\Delta$SFR$^{\\mathrm{pred}}$: %.1f' %(manga_scalars['log_sfr'][ids[i]] - manga_scalars['pred_sfr'][ids[i]]), color='k', fontsize=12)\n",
    "                shapmaps.append(d_shapmass['shap_map_mass'][ids[i]].copy())\n",
    "            elif key == 'shap_age':\n",
    "\n",
    "                temp = d_shapage['shap_map_mass'][ids[i]].copy()\n",
    "                temp = ndimage.gaussian_filter(temp, sigma, mode='nearest')\n",
    "                temp[np.abs(temp)<np.amax(np.nanpercentile(temp,[2,98]))] = np.nan\n",
    "                clim = np.amax(np.abs(np.nanpercentile(temp,[2,98])))\n",
    "                plt.imshow(d_im['images'][ids[i]],alpha=0.4, origin='lower')\n",
    "                plt.pcolor(np.sum(temp,2), cmap='bwr',alpha=0.9)\n",
    "                tempx, tempy = plt.xlim(), plt.ylim()\n",
    "                plt.text(tempx[1]*0.042, tempy[1]*0.9, 'd4000: %.2f' %manga_scalars['d4000'][ids[i]], color='k', fontsize=14)\n",
    "                plt.text(tempx[1]*0.042, tempy[1]*0.81, '$\\Delta$d4000$^{\\mathrm{pred}}$: %.1f' %(manga_scalars['d4000'][ids[i]] - manga_scalars['pred_d4000'][ids[i]]), color='k', fontsize=12)\n",
    "                shapmaps.append(d_shapmass['shap_map_mass'][ids[i]].copy())\n",
    "            plt.axis('off')\n",
    "\n",
    "        except:\n",
    "\n",
    "            plt.axis('off')\n",
    "            print('no shap for id = ',ids[i])\n",
    "    return shapmaps"
   ]
  },
  {
   "cell_type": "code",
   "execution_count": null,
   "id": "052178f8",
   "metadata": {
    "notebookRunGroups": {
     "groupValue": "1"
    }
   },
   "outputs": [],
   "source": [
    "def plot_images_maps_mask(mask, xim = 5, yim = 5, imsize = 4, key='images', ids = [], sigma = 2,):\n",
    "    \"\"\"\n",
    "    Function written to be able to take mask (filters) into account when plotting images and shap maps.\n",
    "    Had to be designed to take into account the difference between numpy indicies and pandas indicies\n",
    "\n",
    "    \"\"\"\n",
    "    \n",
    "    if len(ids) == 0:\n",
    "        ids = np.arange(xim*yim)\n",
    "    plt.subplots(figsize=(imsize*xim,imsize*yim))\n",
    "    plt.subplots_adjust(hspace=0.01,wspace=0.01)\n",
    "    \n",
    "    shapmaps = []\n",
    "    for i in range(xim*yim):\n",
    "        plt.subplot(yim,xim,i+1)\n",
    "        try:\n",
    "            if key == 'images':\n",
    "\n",
    "                plt.imshow(np.array(d_im['images'])[mask][ids[i]], origin='lower')\n",
    "                tempx, tempy = plt.xlim(), plt.ylim()\n",
    "                plt.text(tempx[1]*0.042, tempy[1]*0.9, 'Manga-id: '+np.array(manga_scalars['mangaid'])[mask][ids[i]], color='white', fontsize=14)\n",
    "                plt.text(tempx[1]*0.042, tempy[1]*0.81, np.array(manga_scalars['split'])[mask][ids[i]], color='white', fontsize=12)\n",
    "                plt.text(tempx[1]*0.04, tempy[1]*0.09, ' n: %.1f \\n A$_V$: %.1f \\n z: %.3f' %(np.array(manga_scalars['sersic_n'])[mask][ids[i]], np.array(manga_scalars['Av'])[mask][ids[i]], np.array(manga_scalars['redshift'])[mask][ids[i]]) , color='white', fontsize=14)\n",
    "            elif key == 'shap_mass':            \n",
    "\n",
    "                temp = np.array(d_shapmass['shap_map_mass'])[mask][ids[i]].copy()\n",
    "                temp = ndimage.gaussian_filter(temp, sigma, mode='nearest')\n",
    "                temp[np.abs(temp)<np.amax(np.nanpercentile(temp,[2,98]))] = np.nan\n",
    "                # clim = np.amax(np.abs(np.nanpercentile(temp,[2,98])))\n",
    "                clim = np.amax(np.abs(temp))\n",
    "                plt.imshow(np.array(d_im['images'])[mask][ids[i]],alpha=0.4, origin='lower')\n",
    "                plt.pcolor(np.sum(temp,2), cmap='bwr',alpha=0.9)\n",
    "                tempx, tempy = plt.xlim(), plt.ylim()\n",
    "                plt.text(tempx[1]*0.042, tempy[1]*0.9, 'log M$_*$: %.2f' %np.array(manga_scalars['log_mstar'])[mask][ids[i]], color='k', fontsize=14)\n",
    "                plt.text(tempx[1]*0.042, tempy[1]*0.81, '$\\Delta$M$_{*}^{\\mathrm{pred}}$: %.1f' %(np.array(manga_scalars['log_mstar'])[mask] - np.array(manga_scalars['pred_mstar'])[mask])[ids[i]], color='k', fontsize=12)\n",
    "                shapmaps.append(np.array(d_shapmass['shap_map_mass'])[mask][ids[i]].copy())\n",
    "            elif key == 'shap_sfr':\n",
    "\n",
    "                temp = np.array(d_shapsfr['shap_map_mass'])[mask][ids[i]].copy()\n",
    "                temp = ndimage.gaussian_filter(temp, sigma, mode='nearest')\n",
    "                temp[np.abs(temp)<np.amax(np.nanpercentile(temp,[2,98]))] = np.nan\n",
    "                clim = np.amax(np.abs(np.nanpercentile(temp,[2,98])))\n",
    "                plt.imshow(np.array(d_im['images'])[mask][ids[i]],alpha=0.4, origin='lower')\n",
    "                plt.pcolor(np.sum(temp,2), cmap='bwr',alpha=0.9)\n",
    "                tempx, tempy = plt.xlim(), plt.ylim()\n",
    "                plt.text(tempx[1]*0.042, tempy[1]*0.9, 'log SFR: %.2f' %np.array(manga_scalars['log_sfr'])[mask][ids[i]], color='k', fontsize=14)\n",
    "                plt.text(tempx[1]*0.042, tempy[1]*0.81, '$\\Delta$SFR$^{\\mathrm{pred}}$: %.1f' %(np.array(manga_scalars['log_sfr'])[mask] - np.array(manga_scalars['pred_sfr'])[mask])[ids[i]], color='k', fontsize=12)\n",
    "                shapmaps.append(np.array(d_shapmass['shap_map_mass'])[mask][ids[i]].copy())\n",
    "            elif key == 'shap_age':\n",
    "\n",
    "                temp = np.array(d_shapage['shap_map_mass'])[mask][ids[i]].copy()\n",
    "                temp = ndimage.gaussian_filter(temp, sigma, mode='nearest')\n",
    "                temp[np.abs(temp)<np.amax(np.nanpercentile(temp,[2,98]))] = np.nan\n",
    "                clim = np.amax(np.abs(np.nanpercentile(temp,[2,98])))\n",
    "                plt.imshow(np.array(d_im['images'])[mask][ids[i]],alpha=0.4, origin='lower')\n",
    "                plt.pcolor(np.sum(temp,2), cmap='bwr',alpha=0.9)\n",
    "                tempx, tempy = plt.xlim(), plt.ylim()\n",
    "                plt.text(tempx[1]*0.042, tempy[1]*0.9, 'd4000: %.2f' %np.array(manga_scalars['d4000'])[mask][ids[i]], color='k', fontsize=14)\n",
    "                plt.text(tempx[1]*0.042, tempy[1]*0.81, '$\\Delta$d4000$^{\\mathrm{pred}}$: %.1f' %(np.array(manga_scalars['d4000'])[mask] - np.array(manga_scalars['pred_d4000'])[mask])[ids[i]], color='k', fontsize=12)\n",
    "                shapmaps.append(np.array(d_shapmass['shap_map_mass'])[mask][ids[i]].copy())\n",
    "            plt.axis('off')\n",
    "\n",
    "        except:\n",
    "            plt.axis('off')\n",
    "            print('no shap for id = ',ids[i])\n",
    "    return shapmaps"
   ]
  },
  {
   "cell_type": "markdown",
   "id": "e964513a",
   "metadata": {},
   "source": [
    "# Stellar mass - massive and low-mass galaxies"
   ]
  },
  {
   "cell_type": "code",
   "execution_count": null,
   "id": "66402e6c",
   "metadata": {},
   "outputs": [],
   "source": [
    "shap.image_plot(d_shapmass['shap_map_mass'][ids[0]], np.array(d_im['images'][ids[0]]), labels=None, show=False)"
   ]
  },
  {
   "cell_type": "code",
   "execution_count": null,
   "id": "9a2f4a55",
   "metadata": {},
   "outputs": [],
   "source": [
    "temp = np.array(manga_scalars['log_mstar'])\n",
    "# ids = np.argsort(temp)[22:30]\n",
    "# ids = np.argsort(temp)[10:16]\n",
    "ids = np.argsort(temp)[6:12]\n",
    "\n",
    "sigmaval = 2.0\n",
    "xim = 6\n",
    "yim = 1\n",
    "plot_images_maps(xim,yim, ids=ids, key='images', sigma=sigmaval)\n",
    "plot_images_maps(xim,yim, ids=ids, key='shap_mass', sigma=sigmaval)\n",
    "plot_images_maps(xim,yim, ids=ids, key='shap_sfr', sigma=sigmaval)\n",
    "plot_images_maps(xim,yim, ids=ids, key='shap_age', sigma=sigmaval * 2); plt.show()"
   ]
  },
  {
   "cell_type": "code",
   "execution_count": null,
   "id": "78642116",
   "metadata": {},
   "outputs": [],
   "source": [
    "temp = np.array(manga_scalars['log_mstar'])\n",
    "# ids = np.argsort(temp)[-12:]\n",
    "# ids = np.delete(ids, 2)\n",
    "ids = np.argsort(temp)[-12:-6]\n",
    "\n",
    "sigmaval = 2.0\n",
    "xim = 6\n",
    "yim = 1\n",
    "plot_images_maps(xim,yim, ids=ids, key='images', sigma=sigmaval)\n",
    "plot_images_maps(xim,yim, ids=ids, key='shap_mass', sigma=sigmaval)\n",
    "plot_images_maps(xim,yim, ids=ids, key='shap_sfr', sigma=sigmaval)\n",
    "plot_images_maps(xim,yim, ids=ids, key='shap_age', sigma=sigmaval * 2);"
   ]
  },
  {
   "cell_type": "markdown",
   "id": "52097455",
   "metadata": {},
   "source": [
    "# sSFR - star forming and quiescent galaxies"
   ]
  },
  {
   "cell_type": "code",
   "execution_count": null,
   "id": "e8c7a3bd",
   "metadata": {},
   "outputs": [],
   "source": [
    "temp = np.array(manga_scalars['log_sfr']) - np.array(manga_scalars['log_mstar'])\n",
    "ids = np.argsort(temp)[-140:]\n",
    "# ids = np.argsort(temp)[-116:]\n",
    "print(temp[ids][0:6])\n",
    "\n",
    "sigmaval = 4.0\n",
    "xim = 6\n",
    "yim = 1\n",
    "plot_images_maps(xim,yim, ids=ids, key='images', sigma=sigmaval)\n",
    "plot_images_maps(xim,yim, ids=ids, key='shap_mass', sigma=sigmaval)\n",
    "plot_images_maps(xim,yim, ids=ids, key='shap_sfr', sigma=sigmaval)\n",
    "plot_images_maps(xim,yim, ids=ids, key='shap_age', sigma=sigmaval);"
   ]
  },
  {
   "cell_type": "code",
   "execution_count": null,
   "id": "e5c12e42",
   "metadata": {},
   "outputs": [],
   "source": [
    "temp = np.array(manga_scalars['log_sfr']) - np.array(manga_scalars['log_mstar'])\n",
    "ids = np.argsort(temp)[-160:]\n",
    "print(temp[ids][0:6])\n",
    "\n",
    "sigmaval = 4.0\n",
    "xim = 6\n",
    "yim = 1\n",
    "plot_images_maps(xim,yim, ids=ids, key='images', sigma=sigmaval)\n",
    "plot_images_maps(xim,yim, ids=ids, key='shap_mass', sigma=sigmaval)\n",
    "plot_images_maps(xim,yim, ids=ids, key='shap_sfr', sigma=sigmaval)\n",
    "plot_images_maps(xim,yim, ids=ids, key='shap_age', sigma=sigmaval);"
   ]
  },
  {
   "cell_type": "code",
   "execution_count": null,
   "id": "dd21c296",
   "metadata": {},
   "outputs": [],
   "source": [
    "temp = np.array(manga_scalars['log_sfr']) - np.array(manga_scalars['log_mstar'])\n",
    "# i = 30\n",
    "i = 0\n",
    "ids = np.argsort(temp)[i:i+6]\n",
    "\n",
    "print(temp[ids])\n",
    "\n",
    "sigmaval = 4.0\n",
    "xim = 6\n",
    "yim = 1\n",
    "plot_images_maps(xim,yim, ids=ids, key='images', sigma=sigmaval)\n",
    "plot_images_maps(xim,yim, ids=ids, key='shap_mass', sigma=sigmaval)\n",
    "plot_images_maps(xim,yim, ids=ids, key='shap_sfr', sigma=sigmaval)\n",
    "plot_images_maps(xim,yim, ids=ids, key='shap_age', sigma=sigmaval);"
   ]
  },
  {
   "cell_type": "markdown",
   "id": "625c4b8d",
   "metadata": {},
   "source": [
    "# old and young galaxies (d4000)"
   ]
  },
  {
   "cell_type": "code",
   "execution_count": null,
   "id": "3b2fd588",
   "metadata": {},
   "outputs": [],
   "source": [
    "temp = np.array(manga_scalars['d4000'])\n",
    "# i = 3\n",
    "i = 0\n",
    "# ids = np.argsort(temp)[i:i+10]\n",
    "ids = np.argsort(temp)[i:i+6]\n",
    "# ids = np.delete(ids, 5)\n",
    "\n",
    "print(temp[ids])\n",
    "\n",
    "sigmaval = 4.0\n",
    "xim = 6\n",
    "yim = 1\n",
    "plot_images_maps(xim,yim, ids=ids, key='images', sigma=sigmaval)\n",
    "plot_images_maps(xim,yim, ids=ids, key='shap_mass', sigma=sigmaval)\n",
    "plot_images_maps(xim,yim, ids=ids, key='shap_sfr', sigma=sigmaval)\n",
    "plot_images_maps(xim,yim, ids=ids, key='shap_age', sigma=sigmaval);"
   ]
  },
  {
   "cell_type": "code",
   "execution_count": null,
   "id": "ac384b54",
   "metadata": {},
   "outputs": [],
   "source": [
    "temp = np.array(manga_scalars['d4000'])\n",
    "# i = -50\n",
    "\n",
    "# ids = np.argsort(temp)[i:i+10]\n",
    "ids = np.argsort(temp)[-39:]\n",
    "\n",
    "print(temp[ids][:6])\n",
    "\n",
    "sigmaval = 4.0\n",
    "xim = 6\n",
    "yim = 1\n",
    "plot_images_maps(xim,yim, ids=ids, key='images', sigma=sigmaval)\n",
    "plot_images_maps(xim,yim, ids=ids, key='shap_mass', sigma=sigmaval)\n",
    "plot_images_maps(xim,yim, ids=ids, key='shap_sfr', sigma=sigmaval)\n",
    "plot_images_maps(xim,yim, ids=ids, key='shap_age', sigma=sigmaval);"
   ]
  },
  {
   "cell_type": "code",
   "execution_count": null,
   "id": "02685c5e",
   "metadata": {
    "scrolled": false
   },
   "outputs": [],
   "source": [
    "sigmaval = 1.0\n",
    "xim = 5\n",
    "yim = 5\n",
    "ids = np.random.randint(len(d_im['images']),size=xim*yim)\n",
    "plot_images_maps(xim,yim,ids=ids, key='images', sigma=sigmaval)\n",
    "plot_images_maps(xim,yim,ids=ids, key='shap_mass', sigma=sigmaval)\n",
    "plot_images_maps(xim,yim,ids=ids, key='shap_sfr', sigma=sigmaval)\n",
    "plot_images_maps(xim,yim,ids=ids, key='shap_age', sigma=sigmaval * 2);"
   ]
  },
  {
   "cell_type": "markdown",
   "id": "19121b9d",
   "metadata": {},
   "source": [
    "# Biggest/Smallest Error in Mass"
   ]
  },
  {
   "cell_type": "code",
   "execution_count": null,
   "id": "acb6cfe5",
   "metadata": {},
   "outputs": [],
   "source": [
    "temp = np.array(np.abs(manga_scalars['log_mstar']-manga_scalars['pred_mstar']))\n",
    "ids = np.argsort(temp)[-6:]\n",
    "\n",
    "\n",
    "sigmaval = 2.0\n",
    "xim = 6\n",
    "yim = 1\n",
    "plot_images_maps(xim,yim, ids=ids, key='images', sigma=sigmaval)\n",
    "plot_images_maps(xim,yim, ids=ids, key='shap_mass', sigma=sigmaval)\n",
    "plot_images_maps(xim,yim, ids=ids, key='shap_sfr', sigma=sigmaval)\n",
    "plot_images_maps(xim,yim, ids=ids, key='shap_age', sigma=sigmaval * 2); plt.show()"
   ]
  },
  {
   "cell_type": "code",
   "execution_count": null,
   "id": "2aff160d",
   "metadata": {},
   "outputs": [],
   "source": [
    "temp = np.array(np.abs(manga_scalars['log_mstar']-manga_scalars['pred_mstar']))\n",
    "ids = np.argsort(temp)[:6]\n",
    "\n",
    "\n",
    "sigmaval = 2.0\n",
    "xim = 6\n",
    "yim = 1\n",
    "plot_images_maps(xim,yim, ids=ids, key='images', sigma=sigmaval)\n",
    "plot_images_maps(xim,yim, ids=ids, key='shap_mass', sigma=sigmaval)\n",
    "plot_images_maps(xim,yim, ids=ids, key='shap_sfr', sigma=sigmaval)\n",
    "plot_images_maps(xim,yim, ids=ids, key='shap_age', sigma=sigmaval * 2); plt.show()"
   ]
  },
  {
   "cell_type": "markdown",
   "id": "d4790750",
   "metadata": {},
   "source": [
    "# Biggest/Smallest Error in SFR"
   ]
  },
  {
   "cell_type": "code",
   "execution_count": null,
   "id": "97144029",
   "metadata": {},
   "outputs": [],
   "source": [
    "no_nan = []\n",
    "\n",
    "for i in range(len(manga_scalars)):\n",
    "    if str(np.array(manga_scalars['log_sfr'])[i]) != 'nan':\n",
    "        no_nan.append(i)"
   ]
  },
  {
   "cell_type": "code",
   "execution_count": null,
   "id": "57bd37d6",
   "metadata": {},
   "outputs": [],
   "source": [
    "temp = np.abs(np.array(manga_scalars['log_sfr'])[no_nan]- np.array(manga_scalars['pred_sfr'])[no_nan])\n",
    "ids = np.argsort(temp)[-6:]\n",
    "\n",
    "\n",
    "\n",
    "sigmaval = 2.0\n",
    "xim = 6\n",
    "yim = 1\n",
    "plot_images_maps_mask(no_nan,xim,yim, ids=ids, key='images', sigma=sigmaval)\n",
    "plot_images_maps_mask(no_nan,xim,yim, ids=ids, key='shap_mass', sigma=sigmaval)\n",
    "plot_images_maps_mask(no_nan,xim,yim, ids=ids, key='shap_sfr', sigma=sigmaval)\n",
    "plot_images_maps_mask(no_nan,xim,yim, ids=ids, key='shap_age', sigma=sigmaval * 2); plt.show()"
   ]
  },
  {
   "cell_type": "code",
   "execution_count": null,
   "id": "9bc576c1",
   "metadata": {},
   "outputs": [],
   "source": [
    "temp = np.abs(np.array(manga_scalars['log_sfr'])[no_nan]- np.array(manga_scalars['pred_sfr'])[no_nan])\n",
    "ids = np.argsort(temp)[:6]\n",
    "\n",
    "\n",
    "\n",
    "sigmaval = 2.0\n",
    "xim = 6\n",
    "yim = 1\n",
    "plot_images_maps_mask(no_nan,xim,yim, ids=ids, key='images', sigma=sigmaval)\n",
    "plot_images_maps_mask(no_nan,xim,yim, ids=ids, key='shap_mass', sigma=sigmaval)\n",
    "plot_images_maps_mask(no_nan,xim,yim, ids=ids, key='shap_sfr', sigma=sigmaval)\n",
    "plot_images_maps_mask(no_nan,xim,yim, ids=ids, key='shap_age', sigma=sigmaval * 2); plt.show()"
   ]
  },
  {
   "cell_type": "markdown",
   "id": "2d1a3f3e",
   "metadata": {},
   "source": [
    "# High-Mass Starforming Galaxies"
   ]
  },
  {
   "cell_type": "markdown",
   "id": "b11c322a",
   "metadata": {},
   "source": [
    "Investigating the \"turn-over\" at the high mass part of the SFMS. Is the turn over due to the growth of the quiescent buldge component while only the disk continues SF activies as found by some literature? "
   ]
  },
  {
   "cell_type": "code",
   "execution_count": null,
   "id": "c9742cec",
   "metadata": {},
   "outputs": [],
   "source": [
    "q = np.where((np.array(manga_scalars['log_mstar'])>11.5) & (np.array(manga_scalars['log_sfr'])>0) & (np.array(manga_scalars['split'],dtype=str)=='Test'))[0]\n",
    "temp = np.array(manga_scalars['log_mstar'])[q]\n",
    "ids = np.argsort(temp)[-6:]\n",
    "\n",
    "\n",
    "sigmaval = 2.0\n",
    "xim = 6\n",
    "yim = 1\n",
    "plot_images_maps_mask(q,xim,yim, ids=ids, key='images', sigma=sigmaval)\n",
    "plot_images_maps_mask(q,xim,yim, ids=ids, key='shap_mass', sigma=sigmaval)\n",
    "plot_images_maps_mask(q,xim,yim, ids=ids, key='shap_sfr', sigma=sigmaval)\n",
    "plot_images_maps_mask(q,xim,yim, ids=ids, key='shap_age', sigma=sigmaval * 2); "
   ]
  }
 ],
 "metadata": {
  "kernelspec": {
   "display_name": "Python 3 (ipykernel)",
   "language": "python",
   "name": "python3"
  },
  "language_info": {
   "codemirror_mode": {
    "name": "ipython",
    "version": 3
   },
   "file_extension": ".py",
   "mimetype": "text/x-python",
   "name": "python",
   "nbconvert_exporter": "python",
   "pygments_lexer": "ipython3",
   "version": "3.9.13"
  }
 },
 "nbformat": 4,
 "nbformat_minor": 5
}
