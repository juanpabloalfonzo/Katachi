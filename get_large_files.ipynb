{
 "cells": [
  {
   "cell_type": "markdown",
   "metadata": {},
   "source": [
    "# Run this notebook to obtain the full catalogues used in this study"
   ]
  },
  {
   "cell_type": "code",
   "execution_count": 1,
   "metadata": {},
   "outputs": [],
   "source": [
    "import os \n",
    "import wget"
   ]
  },
  {
   "cell_type": "code",
   "execution_count": null,
   "metadata": {},
   "outputs": [],
   "source": [
    "work_dir = 'PUT DIRECTORY OF KATACHI FOLDER HERE'\n",
    "work_dir1 = work_dir+'\\Catalogues'\n",
    "\n",
    "def download_with_wget(url, destination_directory, filename):\n",
    "    try:\n",
    "        full_path = f\"{destination_directory}/{filename}\"\n",
    "        wget.download(url, out=full_path)\n",
    "        print(f\"Downloaded file saved as: {full_path}\")\n",
    "    except Exception as e:\n",
    "        print(f\"An error occurred: {e}\")\n",
    "\n",
    "\n",
    "#Downloading full data catalogues generated for this work \n",
    "manga_scalars = download_with_wget('https://www.astr.tohoku.ac.jp/~juanpabloalfonzo/Katachi_MaNGA_Catalogues/scalars.cat',work_dir1, 'scalars')\n",
    "manga_images = download_with_wget('https://www.astr.tohoku.ac.jp/~juanpabloalfonzo/Katachi_MaNGA_Catalogues/images.cat',work_dir1, 'images')\n",
    "manga_shap_maps_mass = download_with_wget('https://www.astr.tohoku.ac.jp/~juanpabloalfonzo/Katachi_MaNGA_Catalogues/shap_mass.cat',work_dir1, 'shap_mass')\n",
    "manga_shap_maps_sfr = download_with_wget('https://www.astr.tohoku.ac.jp/~juanpabloalfonzo/Katachi_MaNGA_Catalogues/shap_sfr.cat',work_dir1, 'shap_sfr')\n",
    "manga_shap_mass_d4000 = download_with_wget('https://www.astr.tohoku.ac.jp/~juanpabloalfonzo/Katachi_MaNGA_Catalogues/shap_d4000.cat',work_dir1, 'shap_d4000')\n",
    "\n",
    "\n",
    "#Downloading data loaders\n",
    "work_dir2 = work_dir +'\\dataloaders'\n",
    "download_with_wget('https://www.astr.tohoku.ac.jp/~juanpabloalfonzo/Katachi_MaNGA_Catalogues/dataloaders/Test_Manga_DR17_d4000',work_dir2, 'Train_Manga_DR17_d4000')\n",
    "download_with_wget('https://www.astr.tohoku.ac.jp/~juanpabloalfonzo/Katachi_MaNGA_Catalogues/dataloaders/Train_Manga_DR17_d4000_NO_SHUFFLE',work_dir2, 'Train_Manga_DR17_d4000_NO_SHUFFLE')\n",
    "download_with_wget('https://www.astr.tohoku.ac.jp/~juanpabloalfonzo/Katachi_MaNGA_Catalogues/dataloaders/Test_Manga_DR17_d4000',work_dir2, 'Test_Manga_DR17_d4000')\n",
    "download_with_wget('https://www.astr.tohoku.ac.jp/~juanpabloalfonzo/Katachi_MaNGA_Catalogues/dataloaders/Test_Manga_DR17_Morph_for_SHAP_MAPS',work_dir2, 'Train_Manga_DR17_Morph_for_SHAP_MAPS')\n",
    "\n",
    "#Downloading Saved Models \n",
    "work_dir3 = work_dir +'\\models'\n",
    "download_with_wget('https://www.astr.tohoku.ac.jp/~juanpabloalfonzo/Katachi_MaNGA_Catalogues/models/sfr_solo.pytorch',work_dir3, 'sfr_solo.pytorch')\n",
    "download_with_wget('https://www.astr.tohoku.ac.jp/~juanpabloalfonzo/Katachi_MaNGA_Catalogues/models/d4000.pytorch',work_dir3, 'd4000.pytorch')\n",
    "download_with_wget('https://www.astr.tohoku.ac.jp/~juanpabloalfonzo/Katachi_MaNGA_Catalogues/models/d400_to_t50.pytorch',work_dir3, 'd400_to_t50.pytorch')\n",
    "download_with_wget('https://www.astr.tohoku.ac.jp/~juanpabloalfonzo/Katachi_MaNGA_Catalogues/models/d4000_d4000_chain.pytorch',work_dir3, 'd4000_d4000_chain.pytorch')\n",
    "download_with_wget('https://www.astr.tohoku.ac.jp/~juanpabloalfonzo/Katachi_MaNGA_Catalogues/models/Manga_(DR17)_ResNet50_logt50.pytorch',work_dir3, 'Manga_(DR17)_ResNet50_logt50.pytorch')\n",
    "download_with_wget('https://www.astr.tohoku.ac.jp/~juanpabloalfonzo/Katachi_MaNGA_Catalogues/models/Manga_(DR17)_ResNet50_SFR.pytorch',work_dir3, 'Manga_(DR17)_ResNet50_SFR.pytorch')\n",
    "download_with_wget('https://www.astr.tohoku.ac.jp/~juanpabloalfonzo/Katachi_MaNGA_Catalogues/models/Mass_ResNet50_log_t50_chain_90_10.pytorch',work_dir3, 'Mass_ResNet50_log_t50_chain_90_10.pytorch')\n",
    "download_with_wget('https://www.astr.tohoku.ac.jp/~juanpabloalfonzo/Katachi_MaNGA_Catalogues/models/SFR_ResNet50_log_t50_chain_90_10.pytorch',work_dir3, 'SFR_ResNet50_log_t50_chain_90_10.pytorch')\n",
    "\n",
    "#Downloading PIPE3D VAC\n",
    "work_dir4 = work_dir +'\\VACs'\n",
    "download_with_wget('https://data.sdss.org/sas/dr17/env/MANGA_PIPE3D/v3_1_1/3.1.1/SDSS17Pipe3D_v3_1_1.fits',work_dir4, 'SDSS17Pipe3D_v3_1_1.fits')"
   ]
  }
 ],
 "metadata": {
  "kernelspec": {
   "display_name": "base",
   "language": "python",
   "name": "python3"
  },
  "language_info": {
   "codemirror_mode": {
    "name": "ipython",
    "version": 3
   },
   "file_extension": ".py",
   "mimetype": "text/x-python",
   "name": "python",
   "nbconvert_exporter": "python",
   "pygments_lexer": "ipython3",
   "version": "2022.10.0"
  },
  "orig_nbformat": 4
 },
 "nbformat": 4,
 "nbformat_minor": 2
}
