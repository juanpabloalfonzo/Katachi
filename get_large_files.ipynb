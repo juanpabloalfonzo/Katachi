{
 "cells": [
  {
   "cell_type": "markdown",
   "metadata": {},
   "source": [
    "# Run this notebook to obtain the full catalogues used in this study"
   ]
  },
  {
   "cell_type": "code",
   "execution_count": 4,
   "metadata": {},
   "outputs": [],
   "source": [
    "import os \n",
    "import wget"
   ]
  },
  {
   "cell_type": "code",
   "execution_count": 8,
   "metadata": {},
   "outputs": [],
   "source": [
    "work_dir = 'INSTERT DIRECTORY OF THE GITCLONED FOLDER HERE'\n",
    "work_dir = work_dir+'Catalogues/'\n",
    "\n",
    "def download_with_wget(url, destination_directory, filename):\n",
    "    try:\n",
    "        full_path = f\"{destination_directory}/{filename}\"\n",
    "        wget.download(url, out=full_path)\n",
    "        print(f\"Downloaded file saved as: {full_path}\")\n",
    "    except Exception as e:\n",
    "        print(f\"An error occurred: {e}\")\n",
    "\n",
    "\n",
    "#Downloading full data catalogues generated for this work \n",
    "manga_scalars = download_with_wget('',work_dir, 'scalars')\n",
    "manga_images = download_with_wget('',work_dir, 'images')\n",
    "manga_shap_maps_mass = download_with_wget('',work_dir, 'shap_mass')\n",
    "manga_shap_maps_sfr = download_with_wget('',work_dir, 'shap_sfr')\n",
    "manga_shap_mass_d4000 = download_with_wget('',work_dir, 'shap_d4000')\n",
    "\n",
    "\n",
    "#Downloading data loaders\n",
    "work_dir = work_dir +'dataloaders/'\n",
    "download_with_wget('',work_dir, 'Train_Manga_DR17_d4000')\n",
    "download_with_wget('',work_dir, 'Train_Manga_DR17_d4000_NO_SHUFFLE')\n",
    "download_with_wget('',work_dir, 'Test_Manga_DR17_d4000')\n",
    "download_with_wget('',work_dir, 'Train_Manga_DR17_Morph_for_SHAP_MAPS')\n",
    "\n",
    "#Downloading Saved Models \n",
    "work_dir = work_dir +'models/'\n",
    "download_with_wget('',work_dir, 'sfr_solo.pytorch')\n",
    "download_with_wget('',work_dir, 'd4000.pytorch')\n",
    "download_with_wget('',work_dir, 'd400_to_t50.pytorch')\n",
    "download_with_wget('',work_dir, 'd4000_d4000_chain.pytorch')\n",
    "download_with_wget('',work_dir, 'Manga_(DR17)_ResNet50_logt50.pytorch')\n",
    "download_with_wget('',work_dir, 'Manga_(DR17)_ResNet50_SFR.pytorch')\n",
    "download_with_wget('',work_dir, 'Mass_ResNet50_log_t50_chain_90_10.pytorch')\n",
    "download_with_wget('',work_dir, 'SFR_ResNet50_log_t50_chain_90_10.pytorch')\n",
    "\n",
    "#Downloading PIPE3D VAC\n",
    "work_dir = work_dir +'VACs/'\n",
    "download_with_wget('',work_dir, 'SDSS17Pipe3D_v3_1_1.fits')"
   ]
  }
 ],
 "metadata": {
  "kernelspec": {
   "display_name": "base",
   "language": "python",
   "name": "python3"
  },
  "language_info": {
   "codemirror_mode": {
    "name": "ipython",
    "version": 3
   },
   "file_extension": ".py",
   "mimetype": "text/x-python",
   "name": "python",
   "nbconvert_exporter": "python",
   "pygments_lexer": "ipython3",
   "version": "3.9.13"
  },
  "orig_nbformat": 4
 },
 "nbformat": 4,
 "nbformat_minor": 2
}
